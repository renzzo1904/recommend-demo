{
 "cells": [
  {
   "cell_type": "markdown",
   "metadata": {},
   "source": [
    "## LOAD EXAMPLE DATA FROM RETAIL TABLE"
   ]
  },
  {
   "cell_type": "code",
   "execution_count": 1,
   "metadata": {},
   "outputs": [],
   "source": [
    "import sys\n",
    "import os\n",
    "\n",
    "# Get the parent directory of the current notebook (project_root)\n",
    "notebook_dir = os.path.dirname(os.path.abspath('__file__'))\n",
    "project_root = os.path.abspath(os.path.join(notebook_dir, '..'))\n",
    "\n",
    "# Add the project root directory to the Python path\n",
    "sys.path.append(project_root)\n",
    "\n"
   ]
  },
  {
   "cell_type": "code",
   "execution_count": 2,
   "metadata": {},
   "outputs": [
    {
     "name": "stdout",
     "output_type": "stream",
     "text": [
      "DataFrame Info:\n",
      "<class 'pandas.core.frame.DataFrame'>\n",
      "RangeIndex: 541909 entries, 0 to 541908\n",
      "Data columns (total 8 columns):\n",
      " #   Column       Non-Null Count   Dtype  \n",
      "---  ------       --------------   -----  \n",
      " 0   InvoiceNo    541909 non-null  object \n",
      " 1   StockCode    541909 non-null  object \n",
      " 2   Description  540455 non-null  object \n",
      " 3   Quantity     541909 non-null  int64  \n",
      " 4   InvoiceDate  541909 non-null  object \n",
      " 5   UnitPrice    541909 non-null  float64\n",
      " 6   CustomerID   406829 non-null  float64\n",
      " 7   Country      541909 non-null  object \n",
      "dtypes: float64(2), int64(1), object(5)\n",
      "memory usage: 33.1+ MB\n",
      "None\n",
      "\n",
      "First few rows of the DataFrame:\n",
      "  InvoiceNo StockCode                          Description  Quantity  \\\n",
      "0    536365    85123A   WHITE HANGING HEART T-LIGHT HOLDER         6   \n",
      "1    536365     71053                  WHITE METAL LANTERN         6   \n",
      "2    536365    84406B       CREAM CUPID HEARTS COAT HANGER         8   \n",
      "3    536365    84029G  KNITTED UNION FLAG HOT WATER BOTTLE         6   \n",
      "4    536365    84029E       RED WOOLLY HOTTIE WHITE HEART.         6   \n",
      "\n",
      "        InvoiceDate  UnitPrice  CustomerID         Country  \n",
      "0  01-12-2010 08:26       2.55     17850.0  United Kingdom  \n",
      "1  01-12-2010 08:26       3.39     17850.0  United Kingdom  \n",
      "2  01-12-2010 08:26       2.75     17850.0  United Kingdom  \n",
      "3  01-12-2010 08:26       3.39     17850.0  United Kingdom  \n",
      "4  01-12-2010 08:26       3.39     17850.0  United Kingdom  \n"
     ]
    }
   ],
   "source": [
    "import numpy as np \n",
    "import pandas as pd \n",
    "import chardet\n",
    "\n",
    "\n",
    "\n",
    "# Load the CSV data into a DataFrame\n",
    "csv_file = 'Online Retail Data Set.csv'  # Replace with the actual path to your CSV file\n",
    "\n",
    "with open(csv_file, 'rb') as f:\n",
    "    result = chardet.detect(f.read())\n",
    "    \n",
    "data = pd.read_csv(csv_file, encoding=result['encoding'])\n",
    "\n",
    "\n",
    "# Display basic information about the DataFrame\n",
    "print(\"DataFrame Info:\")\n",
    "print(data.info())\n",
    "\n",
    "# Display the first few rows of the DataFrame\n",
    "print(\"\\nFirst few rows of the DataFrame:\")\n",
    "print(data.head())\n"
   ]
  },
  {
   "cell_type": "code",
   "execution_count": 17,
   "metadata": {},
   "outputs": [],
   "source": [
    "import pandas as pd\n",
    "\n",
    "# Create or load your original DataFrame\n",
    "# df = ...\n",
    "\n",
    "# Get the unique countries from the \"country\" column\n",
    "unique_countries = data[\"Country\"].unique()\n",
    "\n",
    "# Randomly select one user from each unique country\n",
    "selected_rows = []\n",
    "for country in unique_countries:\n",
    "    country_df = data[data[\"Country\"] == country]\n",
    "    if not country_df.empty:\n",
    "        selected_row = country_df.sample(n=1, random_state=42)\n",
    "        selected_rows.append(selected_row)\n",
    "\n",
    "# Concatenate the selected rows to create the mini version of the DataFrame\n",
    "mini_df = pd.concat(selected_rows)\n"
   ]
  },
  {
   "cell_type": "code",
   "execution_count": 4,
   "metadata": {},
   "outputs": [],
   "source": [
    "from main.models import ModelClass\n",
    "\n",
    "txt = ModelClass()"
   ]
  }
 ],
 "metadata": {
  "kernelspec": {
   "display_name": "base",
   "language": "python",
   "name": "python3"
  },
  "language_info": {
   "codemirror_mode": {
    "name": "ipython",
    "version": 3
   },
   "file_extension": ".py",
   "mimetype": "text/x-python",
   "name": "python",
   "nbconvert_exporter": "python",
   "pygments_lexer": "ipython3",
   "version": "3.10.9"
  },
  "orig_nbformat": 4
 },
 "nbformat": 4,
 "nbformat_minor": 2
}
